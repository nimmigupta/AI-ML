{
  "nbformat": 4,
  "nbformat_minor": 0,
  "metadata": {
    "colab": {
      "provenance": [],
      "authorship_tag": "ABX9TyMh80/Fb0OGXT6Tcrnly7UL",
      "include_colab_link": true
    },
    "kernelspec": {
      "name": "python3",
      "display_name": "Python 3"
    },
    "language_info": {
      "name": "python"
    }
  },
  "cells": [
    {
      "cell_type": "markdown",
      "metadata": {
        "id": "view-in-github",
        "colab_type": "text"
      },
      "source": [
        "<a href=\"https://colab.research.google.com/github/nimmigupta/AI-ML/blob/main/pythonbasic.ipynb\" target=\"_parent\"><img src=\"https://colab.research.google.com/assets/colab-badge.svg\" alt=\"Open In Colab\"/></a>"
      ]
    },
    {
      "cell_type": "markdown",
      "source": [
        "This lab is about introduction to Python basic.\n",
        "How to solve the problem step by step\n",
        "How to create a list\n",
        "When to use the look (for, if and while)\n",
        "How to use library Panda in creating the list.\n",
        "How to upload the csv file and use panda library to access the file.\n",
        "How to save the file to git hub.\n",
        "How to use pip and import"
      ],
      "metadata": {
        "id": "2hIHyMTQ5hkt"
      }
    },
    {
      "cell_type": "code",
      "execution_count": null,
      "metadata": {
        "id": "xqxFZJLA5UZ3"
      },
      "outputs": [],
      "source": []
    },
    {
      "cell_type": "markdown",
      "source": [],
      "metadata": {
        "id": "ORumJXE15dza"
      }
    },
    {
      "cell_type": "code",
      "source": [],
      "metadata": {
        "id": "wZV_M-T15c2f"
      },
      "execution_count": null,
      "outputs": []
    }
  ]
}