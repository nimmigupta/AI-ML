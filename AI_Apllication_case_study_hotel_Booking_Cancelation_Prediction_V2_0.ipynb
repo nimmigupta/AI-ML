{
  "nbformat": 4,
  "nbformat_minor": 0,
  "metadata": {
    "colab": {
      "provenance": [],
      "authorship_tag": "ABX9TyNvISmiZZ6fwpkamVj9waVl",
      "include_colab_link": true
    },
    "kernelspec": {
      "name": "python3",
      "display_name": "Python 3"
    },
    "language_info": {
      "name": "python"
    }
  },
  "cells": [
    {
      "cell_type": "markdown",
      "metadata": {
        "id": "view-in-github",
        "colab_type": "text"
      },
      "source": [
        "<a href=\"https://colab.research.google.com/github/nimmigupta/AI-ML/blob/main/AI_Apllication_case_study_hotel_Booking_Cancelation_Prediction_V2_0.ipynb\" target=\"_parent\"><img src=\"https://colab.research.google.com/assets/colab-badge.svg\" alt=\"Open In Colab\"/></a>"
      ]
    },
    {
      "cell_type": "markdown",
      "source": [
        "# **Authour : Nimmi Gupta **"
      ],
      "metadata": {
        "id": "J1gJ-e0n4j7m"
      }
    },
    {
      "cell_type": "markdown",
      "source": [
        "**Link of the code**\n",
        "\n",
        "https://olympus.mygreatlearning.com/courses/118952/files/10770480?module_item_id=6089721&pb_id=17985\n",
        "\n",
        "**File location of the code :**\n",
        "C:\\Users\\guptanim\\OpenText Core\\AI_intro\\Session+Notebook+-+Beginner+29.ipynb"
      ],
      "metadata": {
        "id": "D1kO_FicrJwb"
      }
    },
    {
      "cell_type": "markdown",
      "source": [
        "# **Context**\n",
        "\n",
        "WOW Superstore sells different products like office supplies, furniture and appliances. For each order that is placed, the superstore keeps a record of various attributes related to the product, like state, city, category, subcategory and quantity.\n",
        "\n",
        "Let's display a welcome message from WOW Superstore.\n",
        "\n",
        "We can use the print() function for this purpose.\n"
      ],
      "metadata": {
        "id": "2hIHyMTQ5hkt"
      }
    },
    {
      "cell_type": "code",
      "source": [
        "message = \"Welcome to WOW Superstore\"\n",
        "print(message)"
      ],
      "metadata": {
        "colab": {
          "base_uri": "https://localhost:8080/"
        },
        "id": "HxXSo54NtYcq",
        "outputId": "0f7a43f7-dafa-4e33-f523-a53e35386916"
      },
      "execution_count": 12,
      "outputs": [
        {
          "output_type": "stream",
          "name": "stdout",
          "text": [
            "Welcome to WOW Superstore\n"
          ]
        }
      ]
    },
    {
      "cell_type": "markdown",
      "source": [
        "**The superstore has a stock of 100 phones. Recently, an order was placed for 20 phones. It has to be updated to add 10 more phones.**"
      ],
      "metadata": {
        "id": "ZZN67r_2tnDk"
      }
    },
    {
      "cell_type": "code",
      "source": [
        "order_init = 20\n",
        "print(\"Initial order :\" , order_init)\n",
        "\n",
        "order_updated = order_init + 10\n",
        "print(\"updated order :\", order_updated)"
      ],
      "metadata": {
        "colab": {
          "base_uri": "https://localhost:8080/"
        },
        "id": "QlJ6gzzctvGQ",
        "outputId": "6957ba7e-5a0a-44ac-b3bb-ce380c743ea1"
      },
      "execution_count": 14,
      "outputs": [
        {
          "output_type": "stream",
          "name": "stdout",
          "text": [
            "Initial order : 20\n",
            "updated order : 30\n"
          ]
        }
      ]
    },
    {
      "cell_type": "markdown",
      "source": [
        "**The inventory has to be updated as per the updated order. We will have to subtract the quantity of phones in the updated order (order_upd) from the initial inventory count of 100.**"
      ],
      "metadata": {
        "id": "iKtiCHEmuh-u"
      }
    },
    {
      "cell_type": "code",
      "source": [
        "inventory_int = 100\n",
        "print(\"Initial Invenbtory :\", inventory_int)\n",
        "\n",
        "inventory_update = inventory_int - order_updated\n",
        "print(\"Updated Inventory :\", inventory_update)"
      ],
      "metadata": {
        "colab": {
          "base_uri": "https://localhost:8080/"
        },
        "id": "7S_GSkN8unZl",
        "outputId": "3cf86dba-32f0-4efc-b020-111824e397d2"
      },
      "execution_count": 15,
      "outputs": [
        {
          "output_type": "stream",
          "name": "stdout",
          "text": [
            "Initial Invenbtory : 100\n",
            "Updated Inventory : 70\n"
          ]
        }
      ]
    },
    {
      "cell_type": "markdown",
      "source": [
        "**The cost of each phone is $150.50. Let's compute the total amount for the updated order (order_upd).**"
      ],
      "metadata": {
        "id": "0yVKLPfWvwzO"
      }
    },
    {
      "cell_type": "code",
      "source": [
        "qantity = 30\n",
        "unit_price = 150.50\n",
        "\n",
        "total_amount = qantity * unit_price\n",
        "print(\"Total Amount :\", total_amount)"
      ],
      "metadata": {
        "colab": {
          "base_uri": "https://localhost:8080/"
        },
        "id": "8fD7Lib2v6WZ",
        "outputId": "b8ed524d-c388-43dc-9152-e5f2491e84cd"
      },
      "execution_count": 16,
      "outputs": [
        {
          "output_type": "stream",
          "name": "stdout",
          "text": [
            "Total Amount : 4515.0\n"
          ]
        }
      ]
    },
    {
      "cell_type": "markdown",
      "source": [
        "\n",
        "For the upcoming Black Friday sale, the superstore is providing a discount of 20% on phones and 10% on chairs, but there is no discount on any other product.\n",
        "\n",
        "For a given product, let's display a message that informs a customer about how much discount they will get on their order."
      ],
      "metadata": {
        "id": "4FC1qXW2wtwR"
      }
    },
    {
      "cell_type": "code",
      "source": [
        "product = input(\"Enter the product :\" )\n",
        "\n",
        "if product ==  'phone' :\n",
        "  print(\"You will receive 20% discount on \", product ,\".\")\n",
        "elif product == 'chair' :\n",
        "  print(\"You will receive 10% discount on \", product , \".\")\n",
        "else :\n",
        "  print(\"Sorry, there is no discount on \", product , \".\")"
      ],
      "metadata": {
        "colab": {
          "base_uri": "https://localhost:8080/"
        },
        "id": "cJ1hMb_JwIWW",
        "outputId": "75a37578-03eb-45c9-97b9-7bab15c77742"
      },
      "execution_count": 21,
      "outputs": [
        {
          "output_type": "stream",
          "name": "stdout",
          "text": [
            "Enter the product :pen\n",
            "Sorry, there is no discount on  pen .\n"
          ]
        }
      ]
    },
    {
      "cell_type": "markdown",
      "source": [
        "**WOW Superstore has provided a snapshot of some of the product attributes stored by them.**\n",
        "\n",
        "| Order ID   | Category        | Sub-Category | Quantity | Unit Price |\n",
        "|------------|-----------------|--------------|----------|------------|\n",
        "| WOWORD001  | Office Supplies | Binders      | 3        | 10.20      |\n",
        "| WOWORD002  | Technology      | Phones       | 30       | 150.50     |\n",
        "| WOWORD003  | Office Supplies | Paper        | 50       | 4.50       |\n",
        "| WOWORD004  | Furniture       | Chairs       | 5        | 30.75      |\n",
        "| WOWORD005  | Office Supplies | Binders      | 2        | 10.20      |\n",
        "\n",
        "**Let's create a variable that will store all the order IDs.**"
      ],
      "metadata": {
        "id": "7wj0CrNbyVLS"
      }
    },
    {
      "cell_type": "code",
      "source": [
        "order_id1 = 'WOWORD001'\n",
        "order_id2 = 'WOWORD002'\n",
        "order_id3 = 'WOWORD003'\n",
        "order_id4 = 'WOWORD004'\n",
        "order_id5 = 'WOWORD005'\n",
        "\n",
        "order_id_list = [order_id1, order_id2, order_id3, order_id4, order_id5]\n",
        "print(\"Before appending the order list :\", order_id_list)\n",
        "\n",
        "order_id_list.append('WOWORD006')\n",
        "print(\"After appending the order list :\", order_id_list)"
      ],
      "metadata": {
        "colab": {
          "base_uri": "https://localhost:8080/"
        },
        "id": "6GyWiPNo1XDf",
        "outputId": "8968919b-4e3a-40d5-f28f-b8fad4963ac8"
      },
      "execution_count": 23,
      "outputs": [
        {
          "output_type": "stream",
          "name": "stdout",
          "text": [
            "Before appending the order list : ['WOWORD001', 'WOWORD002', 'WOWORD003', 'WOWORD004', 'WOWORD005']\n",
            "After appending the order list : ['WOWORD001', 'WOWORD002', 'WOWORD003', 'WOWORD004', 'WOWORD005', 'WOWORD006']\n"
          ]
        }
      ]
    },
    {
      "cell_type": "markdown",
      "source": [
        "Steps:\n",
        "Load the Panda library\n",
        "Mount the CSV file from the google drive\n"
      ],
      "metadata": {
        "id": "ORumJXE15dza"
      }
    },
    {
      "cell_type": "code",
      "source": [
        "#importing panda library\n",
        "import pandas as pd"
      ],
      "metadata": {
        "id": "wZV_M-T15c2f"
      },
      "execution_count": 7,
      "outputs": []
    },
    {
      "cell_type": "markdown",
      "source": [],
      "metadata": {
        "id": "LpL7FwYcwq79"
      }
    },
    {
      "cell_type": "markdown",
      "source": [
        "\n",
        "Create empty dataframe\n",
        "\n",
        "*   Empty dataframe\n",
        "\n",
        "\n",
        "\n",
        "\n",
        "\n",
        "\n",
        "\n",
        "\n",
        "\n"
      ],
      "metadata": {
        "id": "SRhNfqwz_7wQ"
      }
    },
    {
      "cell_type": "code",
      "source": [
        "#Installing the panda library to local to the notebook\n",
        "!pip install panda\n",
        "\n",
        "#importing panda library\n",
        "import pandas as pd\n",
        "import os\n",
        "\n",
        "superstore_data = pd.DataFrame()\n",
        "\n",
        "# Mount google drive to access the file\n",
        "from google.colab import drive\n",
        "\n",
        "# Check if the drive is mounted\n",
        "print(\"Drive is already mounted.\")"
      ],
      "metadata": {
        "colab": {
          "base_uri": "https://localhost:8080/"
        },
        "id": "sfbIivQVAqjF",
        "outputId": "d68a6e4c-77b7-46c6-a14f-b74639ce88fc"
      },
      "execution_count": 8,
      "outputs": [
        {
          "output_type": "stream",
          "name": "stdout",
          "text": [
            "Requirement already satisfied: panda in /usr/local/lib/python3.10/dist-packages (0.3.1)\n",
            "Requirement already satisfied: setuptools in /usr/local/lib/python3.10/dist-packages (from panda) (75.1.0)\n",
            "Requirement already satisfied: requests in /usr/local/lib/python3.10/dist-packages (from panda) (2.32.3)\n",
            "Requirement already satisfied: charset-normalizer<4,>=2 in /usr/local/lib/python3.10/dist-packages (from requests->panda) (3.4.0)\n",
            "Requirement already satisfied: idna<4,>=2.5 in /usr/local/lib/python3.10/dist-packages (from requests->panda) (3.10)\n",
            "Requirement already satisfied: urllib3<3,>=1.21.1 in /usr/local/lib/python3.10/dist-packages (from requests->panda) (2.2.3)\n",
            "Requirement already satisfied: certifi>=2017.4.17 in /usr/local/lib/python3.10/dist-packages (from requests->panda) (2024.12.14)\n",
            "Drive is already mounted.\n"
          ]
        }
      ]
    },
    {
      "cell_type": "code",
      "source": [
        "# loading the data file into a pandas dataframe\n",
        "data = pd.read_csv('/content/drive/WOWSuperstore.csv')"
      ],
      "metadata": {
        "id": "HqlYN2WbDSKZ"
      },
      "execution_count": 9,
      "outputs": []
    },
    {
      "cell_type": "code",
      "source": [
        "# viewing the first 5 rows of the data\n",
        "data.head()\n"
      ],
      "metadata": {
        "colab": {
          "base_uri": "https://localhost:8080/",
          "height": 310
        },
        "id": "RmdmqwU5LgvA",
        "outputId": "68627d56-fa82-4b15-aa1b-cd23b1b85912"
      },
      "execution_count": 10,
      "outputs": [
        {
          "output_type": "execute_result",
          "data": {
            "text/plain": [
              "    Order ID       Ship Mode      Segment          City         State  \\\n",
              "0  WOWID0001  Standard Class     Consumer       Seattle    Washington   \n",
              "1  WOWID0002  Standard Class  Home Office    Fort Worth         Texas   \n",
              "2  WOWID0003  Standard Class  Home Office    Fort Worth         Texas   \n",
              "3  WOWID0004  Standard Class     Consumer  Philadelphia  Pennsylvania   \n",
              "4  WOWID0005  Standard Class     Consumer  Philadelphia  Pennsylvania   \n",
              "\n",
              "    Region         Category Sub-Category     Sales  Quantity  Discount  \\\n",
              "0     West  Office Supplies      Binders   407.976         3       0.2   \n",
              "1  Central  Office Supplies   Appliances    68.810         5       0.8   \n",
              "2  Central  Office Supplies      Binders     2.544         3       0.8   \n",
              "3     East        Furniture    Bookcases  3083.430         7       0.5   \n",
              "4     East  Office Supplies      Binders     9.618         2       0.7   \n",
              "\n",
              "      Profit  \n",
              "0   132.5922  \n",
              "1  -123.8580  \n",
              "2    -3.8160  \n",
              "3 -1665.0522  \n",
              "4    -7.0532  "
            ],
            "text/html": [
              "\n",
              "  <div id=\"df-76cde50e-d0c6-4a80-baf4-75f99e99fe33\" class=\"colab-df-container\">\n",
              "    <div>\n",
              "<style scoped>\n",
              "    .dataframe tbody tr th:only-of-type {\n",
              "        vertical-align: middle;\n",
              "    }\n",
              "\n",
              "    .dataframe tbody tr th {\n",
              "        vertical-align: top;\n",
              "    }\n",
              "\n",
              "    .dataframe thead th {\n",
              "        text-align: right;\n",
              "    }\n",
              "</style>\n",
              "<table border=\"1\" class=\"dataframe\">\n",
              "  <thead>\n",
              "    <tr style=\"text-align: right;\">\n",
              "      <th></th>\n",
              "      <th>Order ID</th>\n",
              "      <th>Ship Mode</th>\n",
              "      <th>Segment</th>\n",
              "      <th>City</th>\n",
              "      <th>State</th>\n",
              "      <th>Region</th>\n",
              "      <th>Category</th>\n",
              "      <th>Sub-Category</th>\n",
              "      <th>Sales</th>\n",
              "      <th>Quantity</th>\n",
              "      <th>Discount</th>\n",
              "      <th>Profit</th>\n",
              "    </tr>\n",
              "  </thead>\n",
              "  <tbody>\n",
              "    <tr>\n",
              "      <th>0</th>\n",
              "      <td>WOWID0001</td>\n",
              "      <td>Standard Class</td>\n",
              "      <td>Consumer</td>\n",
              "      <td>Seattle</td>\n",
              "      <td>Washington</td>\n",
              "      <td>West</td>\n",
              "      <td>Office Supplies</td>\n",
              "      <td>Binders</td>\n",
              "      <td>407.976</td>\n",
              "      <td>3</td>\n",
              "      <td>0.2</td>\n",
              "      <td>132.5922</td>\n",
              "    </tr>\n",
              "    <tr>\n",
              "      <th>1</th>\n",
              "      <td>WOWID0002</td>\n",
              "      <td>Standard Class</td>\n",
              "      <td>Home Office</td>\n",
              "      <td>Fort Worth</td>\n",
              "      <td>Texas</td>\n",
              "      <td>Central</td>\n",
              "      <td>Office Supplies</td>\n",
              "      <td>Appliances</td>\n",
              "      <td>68.810</td>\n",
              "      <td>5</td>\n",
              "      <td>0.8</td>\n",
              "      <td>-123.8580</td>\n",
              "    </tr>\n",
              "    <tr>\n",
              "      <th>2</th>\n",
              "      <td>WOWID0003</td>\n",
              "      <td>Standard Class</td>\n",
              "      <td>Home Office</td>\n",
              "      <td>Fort Worth</td>\n",
              "      <td>Texas</td>\n",
              "      <td>Central</td>\n",
              "      <td>Office Supplies</td>\n",
              "      <td>Binders</td>\n",
              "      <td>2.544</td>\n",
              "      <td>3</td>\n",
              "      <td>0.8</td>\n",
              "      <td>-3.8160</td>\n",
              "    </tr>\n",
              "    <tr>\n",
              "      <th>3</th>\n",
              "      <td>WOWID0004</td>\n",
              "      <td>Standard Class</td>\n",
              "      <td>Consumer</td>\n",
              "      <td>Philadelphia</td>\n",
              "      <td>Pennsylvania</td>\n",
              "      <td>East</td>\n",
              "      <td>Furniture</td>\n",
              "      <td>Bookcases</td>\n",
              "      <td>3083.430</td>\n",
              "      <td>7</td>\n",
              "      <td>0.5</td>\n",
              "      <td>-1665.0522</td>\n",
              "    </tr>\n",
              "    <tr>\n",
              "      <th>4</th>\n",
              "      <td>WOWID0005</td>\n",
              "      <td>Standard Class</td>\n",
              "      <td>Consumer</td>\n",
              "      <td>Philadelphia</td>\n",
              "      <td>Pennsylvania</td>\n",
              "      <td>East</td>\n",
              "      <td>Office Supplies</td>\n",
              "      <td>Binders</td>\n",
              "      <td>9.618</td>\n",
              "      <td>2</td>\n",
              "      <td>0.7</td>\n",
              "      <td>-7.0532</td>\n",
              "    </tr>\n",
              "  </tbody>\n",
              "</table>\n",
              "</div>\n",
              "    <div class=\"colab-df-buttons\">\n",
              "\n",
              "  <div class=\"colab-df-container\">\n",
              "    <button class=\"colab-df-convert\" onclick=\"convertToInteractive('df-76cde50e-d0c6-4a80-baf4-75f99e99fe33')\"\n",
              "            title=\"Convert this dataframe to an interactive table.\"\n",
              "            style=\"display:none;\">\n",
              "\n",
              "  <svg xmlns=\"http://www.w3.org/2000/svg\" height=\"24px\" viewBox=\"0 -960 960 960\">\n",
              "    <path d=\"M120-120v-720h720v720H120Zm60-500h600v-160H180v160Zm220 220h160v-160H400v160Zm0 220h160v-160H400v160ZM180-400h160v-160H180v160Zm440 0h160v-160H620v160ZM180-180h160v-160H180v160Zm440 0h160v-160H620v160Z\"/>\n",
              "  </svg>\n",
              "    </button>\n",
              "\n",
              "  <style>\n",
              "    .colab-df-container {\n",
              "      display:flex;\n",
              "      gap: 12px;\n",
              "    }\n",
              "\n",
              "    .colab-df-convert {\n",
              "      background-color: #E8F0FE;\n",
              "      border: none;\n",
              "      border-radius: 50%;\n",
              "      cursor: pointer;\n",
              "      display: none;\n",
              "      fill: #1967D2;\n",
              "      height: 32px;\n",
              "      padding: 0 0 0 0;\n",
              "      width: 32px;\n",
              "    }\n",
              "\n",
              "    .colab-df-convert:hover {\n",
              "      background-color: #E2EBFA;\n",
              "      box-shadow: 0px 1px 2px rgba(60, 64, 67, 0.3), 0px 1px 3px 1px rgba(60, 64, 67, 0.15);\n",
              "      fill: #174EA6;\n",
              "    }\n",
              "\n",
              "    .colab-df-buttons div {\n",
              "      margin-bottom: 4px;\n",
              "    }\n",
              "\n",
              "    [theme=dark] .colab-df-convert {\n",
              "      background-color: #3B4455;\n",
              "      fill: #D2E3FC;\n",
              "    }\n",
              "\n",
              "    [theme=dark] .colab-df-convert:hover {\n",
              "      background-color: #434B5C;\n",
              "      box-shadow: 0px 1px 3px 1px rgba(0, 0, 0, 0.15);\n",
              "      filter: drop-shadow(0px 1px 2px rgba(0, 0, 0, 0.3));\n",
              "      fill: #FFFFFF;\n",
              "    }\n",
              "  </style>\n",
              "\n",
              "    <script>\n",
              "      const buttonEl =\n",
              "        document.querySelector('#df-76cde50e-d0c6-4a80-baf4-75f99e99fe33 button.colab-df-convert');\n",
              "      buttonEl.style.display =\n",
              "        google.colab.kernel.accessAllowed ? 'block' : 'none';\n",
              "\n",
              "      async function convertToInteractive(key) {\n",
              "        const element = document.querySelector('#df-76cde50e-d0c6-4a80-baf4-75f99e99fe33');\n",
              "        const dataTable =\n",
              "          await google.colab.kernel.invokeFunction('convertToInteractive',\n",
              "                                                    [key], {});\n",
              "        if (!dataTable) return;\n",
              "\n",
              "        const docLinkHtml = 'Like what you see? Visit the ' +\n",
              "          '<a target=\"_blank\" href=https://colab.research.google.com/notebooks/data_table.ipynb>data table notebook</a>'\n",
              "          + ' to learn more about interactive tables.';\n",
              "        element.innerHTML = '';\n",
              "        dataTable['output_type'] = 'display_data';\n",
              "        await google.colab.output.renderOutput(dataTable, element);\n",
              "        const docLink = document.createElement('div');\n",
              "        docLink.innerHTML = docLinkHtml;\n",
              "        element.appendChild(docLink);\n",
              "      }\n",
              "    </script>\n",
              "  </div>\n",
              "\n",
              "\n",
              "<div id=\"df-33ab9229-d67c-4953-b064-d46425973ea2\">\n",
              "  <button class=\"colab-df-quickchart\" onclick=\"quickchart('df-33ab9229-d67c-4953-b064-d46425973ea2')\"\n",
              "            title=\"Suggest charts\"\n",
              "            style=\"display:none;\">\n",
              "\n",
              "<svg xmlns=\"http://www.w3.org/2000/svg\" height=\"24px\"viewBox=\"0 0 24 24\"\n",
              "     width=\"24px\">\n",
              "    <g>\n",
              "        <path d=\"M19 3H5c-1.1 0-2 .9-2 2v14c0 1.1.9 2 2 2h14c1.1 0 2-.9 2-2V5c0-1.1-.9-2-2-2zM9 17H7v-7h2v7zm4 0h-2V7h2v10zm4 0h-2v-4h2v4z\"/>\n",
              "    </g>\n",
              "</svg>\n",
              "  </button>\n",
              "\n",
              "<style>\n",
              "  .colab-df-quickchart {\n",
              "      --bg-color: #E8F0FE;\n",
              "      --fill-color: #1967D2;\n",
              "      --hover-bg-color: #E2EBFA;\n",
              "      --hover-fill-color: #174EA6;\n",
              "      --disabled-fill-color: #AAA;\n",
              "      --disabled-bg-color: #DDD;\n",
              "  }\n",
              "\n",
              "  [theme=dark] .colab-df-quickchart {\n",
              "      --bg-color: #3B4455;\n",
              "      --fill-color: #D2E3FC;\n",
              "      --hover-bg-color: #434B5C;\n",
              "      --hover-fill-color: #FFFFFF;\n",
              "      --disabled-bg-color: #3B4455;\n",
              "      --disabled-fill-color: #666;\n",
              "  }\n",
              "\n",
              "  .colab-df-quickchart {\n",
              "    background-color: var(--bg-color);\n",
              "    border: none;\n",
              "    border-radius: 50%;\n",
              "    cursor: pointer;\n",
              "    display: none;\n",
              "    fill: var(--fill-color);\n",
              "    height: 32px;\n",
              "    padding: 0;\n",
              "    width: 32px;\n",
              "  }\n",
              "\n",
              "  .colab-df-quickchart:hover {\n",
              "    background-color: var(--hover-bg-color);\n",
              "    box-shadow: 0 1px 2px rgba(60, 64, 67, 0.3), 0 1px 3px 1px rgba(60, 64, 67, 0.15);\n",
              "    fill: var(--button-hover-fill-color);\n",
              "  }\n",
              "\n",
              "  .colab-df-quickchart-complete:disabled,\n",
              "  .colab-df-quickchart-complete:disabled:hover {\n",
              "    background-color: var(--disabled-bg-color);\n",
              "    fill: var(--disabled-fill-color);\n",
              "    box-shadow: none;\n",
              "  }\n",
              "\n",
              "  .colab-df-spinner {\n",
              "    border: 2px solid var(--fill-color);\n",
              "    border-color: transparent;\n",
              "    border-bottom-color: var(--fill-color);\n",
              "    animation:\n",
              "      spin 1s steps(1) infinite;\n",
              "  }\n",
              "\n",
              "  @keyframes spin {\n",
              "    0% {\n",
              "      border-color: transparent;\n",
              "      border-bottom-color: var(--fill-color);\n",
              "      border-left-color: var(--fill-color);\n",
              "    }\n",
              "    20% {\n",
              "      border-color: transparent;\n",
              "      border-left-color: var(--fill-color);\n",
              "      border-top-color: var(--fill-color);\n",
              "    }\n",
              "    30% {\n",
              "      border-color: transparent;\n",
              "      border-left-color: var(--fill-color);\n",
              "      border-top-color: var(--fill-color);\n",
              "      border-right-color: var(--fill-color);\n",
              "    }\n",
              "    40% {\n",
              "      border-color: transparent;\n",
              "      border-right-color: var(--fill-color);\n",
              "      border-top-color: var(--fill-color);\n",
              "    }\n",
              "    60% {\n",
              "      border-color: transparent;\n",
              "      border-right-color: var(--fill-color);\n",
              "    }\n",
              "    80% {\n",
              "      border-color: transparent;\n",
              "      border-right-color: var(--fill-color);\n",
              "      border-bottom-color: var(--fill-color);\n",
              "    }\n",
              "    90% {\n",
              "      border-color: transparent;\n",
              "      border-bottom-color: var(--fill-color);\n",
              "    }\n",
              "  }\n",
              "</style>\n",
              "\n",
              "  <script>\n",
              "    async function quickchart(key) {\n",
              "      const quickchartButtonEl =\n",
              "        document.querySelector('#' + key + ' button');\n",
              "      quickchartButtonEl.disabled = true;  // To prevent multiple clicks.\n",
              "      quickchartButtonEl.classList.add('colab-df-spinner');\n",
              "      try {\n",
              "        const charts = await google.colab.kernel.invokeFunction(\n",
              "            'suggestCharts', [key], {});\n",
              "      } catch (error) {\n",
              "        console.error('Error during call to suggestCharts:', error);\n",
              "      }\n",
              "      quickchartButtonEl.classList.remove('colab-df-spinner');\n",
              "      quickchartButtonEl.classList.add('colab-df-quickchart-complete');\n",
              "    }\n",
              "    (() => {\n",
              "      let quickchartButtonEl =\n",
              "        document.querySelector('#df-33ab9229-d67c-4953-b064-d46425973ea2 button');\n",
              "      quickchartButtonEl.style.display =\n",
              "        google.colab.kernel.accessAllowed ? 'block' : 'none';\n",
              "    })();\n",
              "  </script>\n",
              "</div>\n",
              "\n",
              "    </div>\n",
              "  </div>\n"
            ],
            "application/vnd.google.colaboratory.intrinsic+json": {
              "type": "dataframe",
              "variable_name": "data",
              "summary": "{\n  \"name\": \"data\",\n  \"rows\": 1950,\n  \"fields\": [\n    {\n      \"column\": \"Order ID\",\n      \"properties\": {\n        \"dtype\": \"string\",\n        \"num_unique_values\": 1950,\n        \"samples\": [\n          \"WOWID1615\",\n          \"WOWID1406\",\n          \"WOWID0975\"\n        ],\n        \"semantic_type\": \"\",\n        \"description\": \"\"\n      }\n    },\n    {\n      \"column\": \"Ship Mode\",\n      \"properties\": {\n        \"dtype\": \"category\",\n        \"num_unique_values\": 2,\n        \"samples\": [\n          \"First Class\",\n          \"Standard Class\"\n        ],\n        \"semantic_type\": \"\",\n        \"description\": \"\"\n      }\n    },\n    {\n      \"column\": \"Segment\",\n      \"properties\": {\n        \"dtype\": \"category\",\n        \"num_unique_values\": 3,\n        \"samples\": [\n          \"Consumer\",\n          \"Home Office\"\n        ],\n        \"semantic_type\": \"\",\n        \"description\": \"\"\n      }\n    },\n    {\n      \"column\": \"City\",\n      \"properties\": {\n        \"dtype\": \"category\",\n        \"num_unique_values\": 105,\n        \"samples\": [\n          \"Aurora\",\n          \"Mesquite\"\n        ],\n        \"semantic_type\": \"\",\n        \"description\": \"\"\n      }\n    },\n    {\n      \"column\": \"State\",\n      \"properties\": {\n        \"dtype\": \"category\",\n        \"num_unique_values\": 4,\n        \"samples\": [\n          \"Texas\",\n          \"Illinois\"\n        ],\n        \"semantic_type\": \"\",\n        \"description\": \"\"\n      }\n    },\n    {\n      \"column\": \"Region\",\n      \"properties\": {\n        \"dtype\": \"category\",\n        \"num_unique_values\": 3,\n        \"samples\": [\n          \"West\",\n          \"Central\"\n        ],\n        \"semantic_type\": \"\",\n        \"description\": \"\"\n      }\n    },\n    {\n      \"column\": \"Category\",\n      \"properties\": {\n        \"dtype\": \"category\",\n        \"num_unique_values\": 3,\n        \"samples\": [\n          \"Office Supplies\",\n          \"Furniture\"\n        ],\n        \"semantic_type\": \"\",\n        \"description\": \"\"\n      }\n    },\n    {\n      \"column\": \"Sub-Category\",\n      \"properties\": {\n        \"dtype\": \"category\",\n        \"num_unique_values\": 17,\n        \"samples\": [\n          \"Binders\",\n          \"Appliances\"\n        ],\n        \"semantic_type\": \"\",\n        \"description\": \"\"\n      }\n    },\n    {\n      \"column\": \"Sales\",\n      \"properties\": {\n        \"dtype\": \"number\",\n        \"std\": 541.1791752949913,\n        \"min\": 0.444,\n        \"max\": 13999.96,\n        \"num_unique_values\": 1595,\n        \"samples\": [\n          46.688,\n          12.16\n        ],\n        \"semantic_type\": \"\",\n        \"description\": \"\"\n      }\n    },\n    {\n      \"column\": \"Quantity\",\n      \"properties\": {\n        \"dtype\": \"number\",\n        \"std\": 2,\n        \"min\": 1,\n        \"max\": 14,\n        \"num_unique_values\": 14,\n        \"samples\": [\n          1,\n          12\n        ],\n        \"semantic_type\": \"\",\n        \"description\": \"\"\n      }\n    },\n    {\n      \"column\": \"Discount\",\n      \"properties\": {\n        \"dtype\": \"number\",\n        \"std\": 0.24492893373147745,\n        \"min\": 0.0,\n        \"max\": 0.8,\n        \"num_unique_values\": 9,\n        \"samples\": [\n          0.0,\n          0.8\n        ],\n        \"semantic_type\": \"\",\n        \"description\": \"\"\n      }\n    },\n    {\n      \"column\": \"Profit\",\n      \"properties\": {\n        \"dtype\": \"number\",\n        \"std\": 236.98121605271947,\n        \"min\": -3701.8928,\n        \"max\": 6719.9808,\n        \"num_unique_values\": 1738,\n        \"samples\": [\n          4.2624,\n          0.4768\n        ],\n        \"semantic_type\": \"\",\n        \"description\": \"\"\n      }\n    }\n  ]\n}"
            }
          },
          "metadata": {},
          "execution_count": 10
        }
      ]
    },
    {
      "cell_type": "code",
      "source": [
        "\n",
        "city = data.City\n",
        "print(city)"
      ],
      "metadata": {
        "colab": {
          "base_uri": "https://localhost:8080/"
        },
        "id": "6C4CoijrMwmL",
        "outputId": "e828ef55-8190-4211-afff-8f6ece143369"
      },
      "execution_count": 11,
      "outputs": [
        {
          "output_type": "stream",
          "name": "stdout",
          "text": [
            "0            Seattle\n",
            "1         Fort Worth\n",
            "2         Fort Worth\n",
            "3       Philadelphia\n",
            "4       Philadelphia\n",
            "            ...     \n",
            "1945    Philadelphia\n",
            "1946    Philadelphia\n",
            "1947         Houston\n",
            "1948         Houston\n",
            "1949         Houston\n",
            "Name: City, Length: 1950, dtype: object\n"
          ]
        }
      ]
    }
  ]
}